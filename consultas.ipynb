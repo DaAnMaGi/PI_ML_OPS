{
  "nbformat": 4,
  "nbformat_minor": 0,
  "metadata": {
    "colab": {
      "provenance": [],
      "authorship_tag": "ABX9TyMTTkAc4fWCG64nGbKwmikH",
      "include_colab_link": true
    },
    "kernelspec": {
      "name": "python3",
      "display_name": "Python 3"
    },
    "language_info": {
      "name": "python"
    }
  },
  "cells": [
    {
      "cell_type": "markdown",
      "metadata": {
        "id": "view-in-github",
        "colab_type": "text"
      },
      "source": [
        "<a href=\"https://colab.research.google.com/github/DaAnMaGi/PI_ML_OPS/blob/main/consultas.ipynb\" target=\"_parent\"><img src=\"https://colab.research.google.com/assets/colab-badge.svg\" alt=\"Open In Colab\"/></a>"
      ]
    },
    {
      "cell_type": "markdown",
      "source": [
        "# Descarga de librerías necesarias"
      ],
      "metadata": {
        "id": "46rH44rDR4KL"
      }
    },
    {
      "cell_type": "code",
      "execution_count": 3,
      "metadata": {
        "id": "2hly229CQ8nI"
      },
      "outputs": [],
      "source": [
        "import pandas as pd"
      ]
    },
    {
      "cell_type": "markdown",
      "source": [
        "# Carga de los archivos"
      ],
      "metadata": {
        "id": "40PZ7cLFWNLX"
      }
    },
    {
      "cell_type": "code",
      "source": [
        "# Se obtienen las rutas\n",
        "games_ruta = \"/content/games_genres_c.json.gz\"\n",
        "items_ruta = \"/content/items_hours.json.gz\"\n",
        "reviews_ruta = \"/content/reviews_final.json.gz\""
      ],
      "metadata": {
        "id": "2XYWL_1rWQ6z"
      },
      "execution_count": 4,
      "outputs": []
    },
    {
      "cell_type": "code",
      "source": [
        "# Se obtienen los dataframes\n",
        "games = pd.read_json(games_ruta,compression=\"gzip\")\n",
        "items = pd.read_json(items_ruta,compression=\"gzip\")\n",
        "reviews = pd.read_json(reviews_ruta,compression=\"gzip\")"
      ],
      "metadata": {
        "id": "JJ7_EokwW4tS"
      },
      "execution_count": 5,
      "outputs": []
    },
    {
      "cell_type": "markdown",
      "source": [
        "# PlayTimeGenre\n",
        "def PlayTimeGenre( genero : str ): Debe devolver año con mas horas jugadas para dicho género. Ejemplo de retorno: {\"Año de lanzamiento con más horas jugadas para Género X\" : 2013}"
      ],
      "metadata": {
        "id": "DQx9DXlyXtv9"
      }
    },
    {
      "cell_type": "code",
      "source": [
        "# Se define la función playtimegenre\n",
        "def PlayTimeGenre(genero=str):\n",
        "  # Se obtiene un dataframe a partir de games\n",
        "  # donde cada juego obtiene una fila por cada género que tenga.\n",
        "  g = games.explode(\"genre\")\n",
        "  # Se filtra el dataframe para obtener únicamente los\n",
        "  # juegos que tengan el género especificado.\n",
        "  g = g[g[\"genre\"] == genero]\n",
        "\n",
        "  # Se filtra el dataframe de items para encontrar aquellos que cumplen\n",
        "  # la condición del género especificado.\n",
        "  i = items[items[\"id_game\"].isin(g[\"id_game\"])]\n",
        "\n",
        "  # Se obtiene la suma de horas jugadas por año del conjunto de juegos filtrado.\n",
        "  x = i.groupby(\"year\")[\"playtime_forever\"].sum()\n",
        "\n",
        "  # Se obtiene el año con más horas jugadas y el número de horas jugadas.\n",
        "  year = x.idxmax()\n",
        "  hours = x.max()\n",
        "\n",
        "  # Se imprime la respuesta.\n",
        "  return print(f\"Para el género {genero} el año con más horas fue:\\n{year}\\nCon un total de {hours} horas jugadas\")"
      ],
      "metadata": {
        "id": "r_dwbdYsXxgL"
      },
      "execution_count": 6,
      "outputs": []
    },
    {
      "cell_type": "code",
      "source": [
        "# Se prueba\n",
        "genero = \"Adventure\"\n",
        "PlayTimeGenre(genero)"
      ],
      "metadata": {
        "colab": {
          "base_uri": "https://localhost:8080/"
        },
        "id": "oQzYFwfQbrSm",
        "outputId": "185457e2-c742-42fd-8623-777b988194f6"
      },
      "execution_count": 44,
      "outputs": [
        {
          "output_type": "stream",
          "name": "stdout",
          "text": [
            "Para el género Adventure el año con más horas fue:\n",
            "2006.0\n",
            "Con un total de 417199674 horas jugadas\n"
          ]
        }
      ]
    },
    {
      "cell_type": "markdown",
      "source": [
        "# UserForGenre\n",
        "def UserForGenre( genero : str ): Debe devolver el usuario que acumula más horas jugadas para el género dado y una lista de la acumulación de horas jugadas por año. Ejemplo de retorno: {\"Usuario con más horas jugadas para Género X\" : us213ndjss09sdf, \"Horas jugadas\":[{Año: 2013, Horas: 203}, {Año: 2012, Horas: 100}, {Año: 2011, Horas: 23}]}"
      ],
      "metadata": {
        "id": "fIflmM_cmMv8"
      }
    },
    {
      "cell_type": "code",
      "source": [
        "def UserForGenre(genero = str):\n",
        "  # Se obtiene un dataframe a partir de games\n",
        "  # donde cada juego obtiene una fila por cada género que tenga.\n",
        "  g = games.explode(\"genre\")\n",
        "  # Se filtra el dataframe para obtener únicamente los\n",
        "  # juegos que tengan el género especificado.\n",
        "  g = g[g[\"genre\"] == genero]\n",
        "\n",
        "  # Se filtra el dataframe de items para encontrar aquellos que cumplen\n",
        "  # la condición del género especificado.\n",
        "  i = items[items[\"id_game\"].isin(g[\"id_game\"])]\n",
        "\n",
        "  # Se obtiene la información de horas jugadas por jugador.\n",
        "  x = i.groupby([\"user_id\",\"year\"])[\"playtime_forever\"].sum()\n",
        "\n",
        "  # Se obtiene el jugador con más horas jugadas.\n",
        "  player = x.idxmax()[0]\n",
        "\n",
        "  # Se obtiene la información para el jugador identificado.\n",
        "  player_data = x.loc[player]\n",
        "\n",
        "  # Se imprime el jugador con más horas jugadas para el género identificado.\n",
        "  print(f\"El ID del jugador con más horas jugadas para el género {genero} es:\\n{player}\")\n",
        "  # Se imprimen el número de horas jugadas por año.\n",
        "  for year,playtime in player_data.items():\n",
        "    print(f\"Para el año {year} jugó {playtime} horas\")"
      ],
      "metadata": {
        "id": "qEWOHtxxZt5y"
      },
      "execution_count": 8,
      "outputs": []
    },
    {
      "cell_type": "code",
      "source": [
        "# Se prueba\n",
        "genero = \"Free to Play\"\n",
        "\n",
        "UserForGenre(genero)"
      ],
      "metadata": {
        "colab": {
          "base_uri": "https://localhost:8080/"
        },
        "id": "_7JNdloKmqaf",
        "outputId": "53d9d23a-0033-4cf0-e739-020b5db4ff44"
      },
      "execution_count": 43,
      "outputs": [
        {
          "output_type": "stream",
          "name": "stdout",
          "text": [
            "El ID del jugador con más horas jugadas para el género Free to Play es:\n",
            "shinomegami\n",
            "Para el año 2010.0 jugó 1934 horas\n",
            "Para el año 2012.0 jugó 2043 horas\n",
            "Para el año 2015.0 jugó 530882 horas\n"
          ]
        }
      ]
    },
    {
      "cell_type": "markdown",
      "source": [
        "# UsersRecommend\n",
        "def UsersRecommend( año : int ): Devuelve el top 3 de juegos MÁS recomendados por usuarios para el año dado. (reviews.recommend = True y comentarios positivos/neutrales) Ejemplo de retorno: [{\"Puesto 1\" : X}, {\"Puesto 2\" : Y},{\"Puesto 3\" : Z}]"
      ],
      "metadata": {
        "id": "A8xhY4MkwkSz"
      }
    },
    {
      "cell_type": "code",
      "source": [
        "# Se define la función.\n",
        "def UserRecommend(year):\n",
        "  # Se obtienen las reviews para el año señalado\n",
        "  r = reviews[reviews[\"review_year\"] == year]\n",
        "\n",
        "  # Se obtiene la sumatoria de recomendaciones por juego\n",
        "  # para el año selecionado\n",
        "  m = r.groupby(\"id_game\")[\"recommend\"].sum().sort_values(ascending=False)\n",
        "\n",
        "  # Se obtienen los tres juegos con mayor número de recomendaciones.\n",
        "  most_recommend = m[:3]\n",
        "\n",
        "  # Se obtiene la respuesta\n",
        "  print(f\"Para el año {year} los juegos más recomendados fueron:\")\n",
        "\n",
        "  puesto = 1 # Variable que indica el lugar en el podio.\n",
        "\n",
        "  for game_id, recom in most_recommend.items():\n",
        "      # Se obtiene el nombre del juego usando el game_id.\n",
        "      name = games.loc[games['id_game'] == game_id, 'name'].values[0]\n",
        "      # Se imprimen los puestos\n",
        "      print(f\"En el puesto #{puesto}, el juego: {name}, con {recom} recomendaciones.\")\n",
        "      puesto += 1"
      ],
      "metadata": {
        "id": "teKmdQ7yoEVt"
      },
      "execution_count": 10,
      "outputs": []
    },
    {
      "cell_type": "code",
      "source": [
        "# Se prueba\n",
        "year = 2012\n",
        "UserRecommend(year)"
      ],
      "metadata": {
        "colab": {
          "base_uri": "https://localhost:8080/"
        },
        "id": "V-OlzWpd7Fsh",
        "outputId": "5464d7dd-03d6-4a86-9ec1-01611f5773c2"
      },
      "execution_count": 45,
      "outputs": [
        {
          "output_type": "stream",
          "name": "stdout",
          "text": [
            "Para el año 2012 los juegos más recomendados fueron:\n",
            "En el puesto #1, el juego: Team Fortress 2, con 206 recomendaciones.\n",
            "En el puesto #2, el juego: Garry's Mod, con 33 recomendaciones.\n",
            "En el puesto #3, el juego: Terraria, con 30 recomendaciones.\n"
          ]
        }
      ]
    },
    {
      "cell_type": "markdown",
      "source": [
        "# UsersWorstDeveloper\n",
        "\n",
        "def UsersWorstDeveloper( año : int ): Devuelve el top 3 de desarrolladoras con juegos MENOS recomendados por usuarios para el año dado. (reviews.recommend = False y comentarios negativos) Ejemplo de retorno: [{\"Puesto 1\" : X}, {\"Puesto 2\" : Y},{\"Puesto 3\" : Z}]"
      ],
      "metadata": {
        "id": "dGerE7tt8ZId"
      }
    },
    {
      "cell_type": "code",
      "source": [
        "# Se define la función.\n",
        "def UserWorstDeveloper(year):\n",
        "  # Se obtienen las reviews para el año señalado\n",
        "  r = reviews[reviews[\"review_year\"] == year]\n",
        "\n",
        "  # Se obtienen las desarrolladoras de los juegos\n",
        "  # con reviews para el año selecionado\n",
        "  g = games[[\"id_game\",\"developer\"]]\n",
        "  m = r.merge(g,on=\"id_game\")\n",
        "\n",
        "  # Se obtienen el número de recomendaciones para cada desarrollador.\n",
        "  x = m.groupby(\"developer\")[\"recommend\"].sum().sort_values(ascending=True)\n",
        "\n",
        "  # Se obtienen las tres desarrolladoras con menor número de recomendaciones.\n",
        "  least_recommend = x[:3]\n",
        "\n",
        "  # Se obtiene la respuesta\n",
        "  print(f\"Para el año {year} las desarrolladoras menos recomendadas fueron:\")\n",
        "\n",
        "  puesto = 1 # Variable que indica el lugar en el podio.\n",
        "\n",
        "  for desarrolladora, recom in least_recommend.items():\n",
        "    # Se imprimen los puestos\n",
        "    print(f\"En el puesto #{puesto}, la desarrolladora: {desarrolladora}, con {recom} recomendaciones.\")\n",
        "    puesto += 1\n"
      ],
      "metadata": {
        "id": "AvUXtLyZ8pNw"
      },
      "execution_count": 12,
      "outputs": []
    },
    {
      "cell_type": "code",
      "source": [
        "# Se prueba\n",
        "year = 2010\n",
        "UserWorstDeveloper(year)"
      ],
      "metadata": {
        "colab": {
          "base_uri": "https://localhost:8080/"
        },
        "id": "GUw7VFtPRNKm",
        "outputId": "396c2f81-318c-4220-b3ed-f83e6d87cd04"
      },
      "execution_count": 46,
      "outputs": [
        {
          "output_type": "stream",
          "name": "stdout",
          "text": [
            "Para el año 2010 las desarrolladoras menos recomendadas fueron:\n",
            "En el puesto #1, la desarrolladora: 1C Company, con 1 recomendaciones.\n",
            "En el puesto #2, la desarrolladora: Ubisoft Montreal, con 1 recomendaciones.\n",
            "En el puesto #3, la desarrolladora: The Creative Assembly,Feral Interactive (Mac),Feral Interactive (Linux), con 1 recomendaciones.\n"
          ]
        }
      ]
    },
    {
      "cell_type": "markdown",
      "source": [
        "# sentiment_analysis\n",
        "def sentiment_analysis( empresa desarrolladora : str ): Según la empresa desarrolladora, se devuelve un diccionario con el nombre de la desarrolladora como llave y una lista con la cantidad total de registros de reseñas de usuarios que se encuentren categorizados con un análisis de sentimiento como valor. Ejemplo de retorno: {'Valve' : [Negative = 182, Neutral = 120, Positive = 278]}"
      ],
      "metadata": {
        "id": "CSJj92s0X1Kl"
      }
    },
    {
      "cell_type": "code",
      "source": [
        "# Se define la función\n",
        "def sentiment_analysis(developer=str):\n",
        "  # se obtienen todos los juegos del estudio desarrollador.\n",
        "  g = games[games[\"developer\"] == developer]\n",
        "\n",
        "  # Se obtienen los juegos del estudio la data de las reviews.\n",
        "  r = reviews[reviews[\"id_game\"].isin(g[\"id_game\"])]\n",
        "\n",
        "  # Se obtiene el número de usuarios para cada una de las categorías\n",
        "  # de análisis de sentimientos.\n",
        "  s = r.groupby(\"sentiment_analysis\")[\"id_game\"].count()\n",
        "\n",
        "  # Se imprime el resultado.\n",
        "  print(f\"Para la desarrolladora {developer} se tienen:\\n{s[0]} reseñas de usuarios con sentimientos negativos,\\n{s[1]} reseñas de usuarios con sentimiento neutro y\\n{s[2]} reseñas de usuarios con sentimientos positivos.\")"
      ],
      "metadata": {
        "id": "pzdJylQS8pmZ"
      },
      "execution_count": 36,
      "outputs": []
    },
    {
      "cell_type": "code",
      "source": [
        "# Se prueba\n",
        "developer = \"Unknown Worlds Entertainment\"\n",
        "sentiment_analysis(developer)\n",
        "# Se prueba\n",
        "developer = \"Valve\"\n",
        "sentiment_analysis(developer)"
      ],
      "metadata": {
        "colab": {
          "base_uri": "https://localhost:8080/"
        },
        "id": "CzXGx5s1IW71",
        "outputId": "1a236ae5-903d-407e-9610-3cc7cc2760b6"
      },
      "execution_count": 47,
      "outputs": [
        {
          "output_type": "stream",
          "name": "stdout",
          "text": [
            "Para la desarrolladora Unknown Worlds Entertainment se tienen:\n",
            "1 reseñas de usuarios con sentimientos negativos,\n",
            "25 reseñas de usuarios con sentimiento neutro y\n",
            "22 reseñas de usuarios con sentimientos positivos.\n",
            "Para la desarrolladora Valve se tienen:\n",
            "46 reseñas de usuarios con sentimientos negativos,\n",
            "3464 reseñas de usuarios con sentimiento neutro y\n",
            "4004 reseñas de usuarios con sentimientos positivos.\n"
          ]
        }
      ]
    },
    {
      "cell_type": "code",
      "source": [
        "x = games[\"developer\"].unique()\n",
        "x[0:200]"
      ],
      "metadata": {
        "colab": {
          "base_uri": "https://localhost:8080/"
        },
        "id": "Ysy0UrXKIeL4",
        "outputId": "b48589b4-f5ff-438a-c776-a47a54409f1a"
      },
      "execution_count": 38,
      "outputs": [
        {
          "output_type": "execute_result",
          "data": {
            "text/plain": [
              "array(['Kotoshiro', 'Secret Level SRL', 'Poolians.com', '彼岸领域', None,\n",
              "       'Trickjump Games Ltd', 'Poppermost Productions', 'RewindApp',\n",
              "       'Qucheza', 'Stegalosaurus Game Development', 'Copperpick Studio',\n",
              "       'Ghulam Jewel', 'Apillo', 'Tero Lunkka', 'FrozenPepper',\n",
              "       'Casey Labrack', 'Stainless Games Ltd', 'Valve', 'dev4play',\n",
              "       'BlueLine Games', 'Games by Brundle', 'ETGgames', 'ProjectorGames',\n",
              "       'Unknown Indie Devs', 'The Commander', 'lalalaZero,Urbanoff',\n",
              "       'Strategy First', 'Outerlight Ltd.', 'Zachary M Thomas',\n",
              "       'Breakout Studio', 'zha7,Phaedruns,Yingke Wu', 'Ultraint',\n",
              "       'Seth Albertus', 'TPM.CO SOFT WORKS', 'Wonderbox Games',\n",
              "       'Mad Unicorn Games', 'Emanon Studios', 'GlyphX Games',\n",
              "       'Introversion Software', 'Facepunch Studios', 'SimBin',\n",
              "       'Unknown Worlds Entertainment', 'CINEMAX, s.r.o.', 'Sick Puppies',\n",
              "       'Deepred', 'Funcom', 'Bugbear Entertainment', 'CAPCOM Co., Ltd.',\n",
              "       'FireFly Studios,Firaxis Games', 'Arkane Studios', 'Firaxis Games',\n",
              "       'PopTop', 'Firaxis Games,Feral Interactive (Mac)',\n",
              "       'Elephant Games', 'MicroProse Software, Inc',\n",
              "       'Crystal Dynamics,Feral Interactive (Mac)', 'Telltale Games',\n",
              "       'id Software', 'Freegamer', 'Gray Matter Studios',\n",
              "       'Ritual Entertainment', 'Terminal Reality', 'Rogue Entertainment',\n",
              "       'Metamorf', 'Relic Entertainment', '2K Boston,2K Australia',\n",
              "       'The Creative Assembly', 'Big Fish Games', 'Rockstar North',\n",
              "       'Rockstar San Diego', 'Remedy Entertainment', 'Crystal Dynamics',\n",
              "       'EA Los Angeles', 'Infinite Interactive',\n",
              "       'Momentum Digital Media Technologies',\n",
              "       'Gamebryo,Virtual Playground', 'SCS Software', 'Pivotal Games',\n",
              "       'Bohemia Interactive', 'Spellbound', 'Haggard Games',\n",
              "       'Eugen Systems', 'Frontier,Aspyr (Mac)', 'Epic Games, Inc.',\n",
              "       'Sanzaru Games', 'Ubisoft', 'Crytek Studios', 'Ubisoft Montreal',\n",
              "       'Last Day of Work', 'SpinTop Games', 'MumboJumbo',\n",
              "       'Ubisoft Bulgaria,Ubisoft Montpellier', 'Ubisoft Romania',\n",
              "       '1C: Maddox Games', 'Merscom,Babylon', 'BigAnt Studios', 'Zemnott',\n",
              "       'Gabriel Entertainment', 'Frogwares', 'Eurocom',\n",
              "       'Luc Bernard,SilverSphereStudios', 'Lesta Studio',\n",
              "       'Dialogue Design', 'Oddworld Inhabitants', 'GSC Game World',\n",
              "       'Crytek', 'CD PROJEKT RED', 'Tilted Mill Entertainment, Inc.',\n",
              "       'Red Storm Entertainment,Ubisoft Montreal', \"Traveller's Tales\",\n",
              "       'Monte Cristo', 'Gearbox Software', 'Dark Castle Software',\n",
              "       'Techland', 'Nival', 'Blue Byte', 'Red Storm Entertainment',\n",
              "       'PopCap Games, Inc.', '2D BOY', 'Egosoft', 'Sandstorm Productions',\n",
              "       'Shorebound Studios', 'Perpetual FX Creative',\n",
              "       'Rockstar New England', 'Meridian4', 'RailSimulator.com', 'Reppo',\n",
              "       'Dovetail Games', 'Volition', 'EA Redwood Shores',\n",
              "       'Liquid Entertainment', 'DICE', 'Hidden Path Entertainment',\n",
              "       'Monolith', 'Oxeye Game Studio', 'Inventive Dingo',\n",
              "       'Black Sea Studios Ltd', 'Realmforge Studios',\n",
              "       'The Creative Assembly,Feral Interactive (Mac),Feral Interactive (Linux)',\n",
              "       'Deadline Games', 'Frictional Games', 'Radon Labs',\n",
              "       'Certain Affinity™', 'Tale of Tales', 'Criterion Games',\n",
              "       'Zombie Master Team', 'Twisted Pixel Games', 'IonFX',\n",
              "       'Llamasoft LTD', 'InnoGlow,Stormregion,THQ Nordic', 'ArenaNet®',\n",
              "       'Reality Pump Studios', 'Gaijin Entertainment', 'ACE Team',\n",
              "       '1C Company', 'Sky Fallen', 'Irrational Games', 'SaintXi',\n",
              "       'Darklight Games', 'Radical Entertainment', 'Erik Svedäng',\n",
              "       'Ascaron Entertainment ltd.', 'Headfirst Productions',\n",
              "       'Bethesda Game Studios', 'Bethesda Game Studios®', 'Deck 13',\n",
              "       'NovaLogic', 'Mascot Entertainment', 'HeR Interactive',\n",
              "       'Digital Eel', 'Capcom', 'Frontier', 'LucasArts',\n",
              "       'Planet Moon Studios', 'Pandemic Studios', 'GFI Russia',\n",
              "       'Targem Games', 'Her Interactive', 'Wanako Games', 'Sierra',\n",
              "       'Saber Interactive', 'Tripwire Interactive', 'Artech Studios',\n",
              "       'PopTop Software,BreakAway Games,Frog City Software',\n",
              "       'Sakari Indie', 'BioWare,Aspyr (Mac)', 'Hemisphere Games',\n",
              "       'Black Isle Studios', '14° East', 'Xatrix Entertainment',\n",
              "       'Shiny Entertainment', 'IO Interactive', 'iWin', 'Size Five Games',\n",
              "       'Unicorn Games Studio', 'Blue Fang', 'Freeze Tag Inc.,iQ212',\n",
              "       'Freeze Tag Inc.,Joju Games,Linksolutions Ltd.,Dekovir Entertainment',\n",
              "       'Vectorpark, Inc.', 'All Aboard'], dtype=object)"
            ]
          },
          "metadata": {},
          "execution_count": 38
        }
      ]
    }
  ]
}