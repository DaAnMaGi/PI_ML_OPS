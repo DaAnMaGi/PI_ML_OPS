{
  "nbformat": 4,
  "nbformat_minor": 0,
  "metadata": {
    "colab": {
      "provenance": [],
      "authorship_tag": "ABX9TyMrp1PL+79ZsdN9s6gMdWCm",
      "include_colab_link": true
    },
    "kernelspec": {
      "name": "python3",
      "display_name": "Python 3"
    },
    "language_info": {
      "name": "python"
    }
  },
  "cells": [
    {
      "cell_type": "markdown",
      "metadata": {
        "id": "view-in-github",
        "colab_type": "text"
      },
      "source": [
        "<a href=\"https://colab.research.google.com/github/DaAnMaGi/PI_ML_OPS/blob/main/consultas.ipynb\" target=\"_parent\"><img src=\"https://colab.research.google.com/assets/colab-badge.svg\" alt=\"Open In Colab\"/></a>"
      ]
    },
    {
      "cell_type": "markdown",
      "source": [
        "# Descarga de librerías necesarias"
      ],
      "metadata": {
        "id": "46rH44rDR4KL"
      }
    },
    {
      "cell_type": "code",
      "execution_count": 1,
      "metadata": {
        "id": "2hly229CQ8nI"
      },
      "outputs": [],
      "source": [
        "import pandas as pd"
      ]
    },
    {
      "cell_type": "markdown",
      "source": [
        "# Carga de los archivos"
      ],
      "metadata": {
        "id": "40PZ7cLFWNLX"
      }
    },
    {
      "cell_type": "code",
      "source": [
        "# Se obtienen las rutas\n",
        "games_ruta = \"/content/games_genres_c.json.gz\"\n",
        "items_ruta = \"/content/items_hours.json.gz\"\n",
        "reviews_ruta = \"/content/reviews_final.json.gz\""
      ],
      "metadata": {
        "id": "2XYWL_1rWQ6z"
      },
      "execution_count": 97,
      "outputs": []
    },
    {
      "cell_type": "code",
      "source": [
        "# Se obtienen los dataframes\n",
        "games = pd.read_json(games_ruta,compression=\"gzip\")\n",
        "items = pd.read_json(items_ruta,compression=\"gzip\")\n",
        "reviews = pd.read_json(reviews_ruta,compression=\"gzip\")"
      ],
      "metadata": {
        "id": "JJ7_EokwW4tS"
      },
      "execution_count": 98,
      "outputs": []
    },
    {
      "cell_type": "markdown",
      "source": [
        "# PlayTimeGenre\n",
        "def PlayTimeGenre( genero : str ): Debe devolver año con mas horas jugadas para dicho género. Ejemplo de retorno: {\"Año de lanzamiento con más horas jugadas para Género X\" : 2013}"
      ],
      "metadata": {
        "id": "DQx9DXlyXtv9"
      }
    },
    {
      "cell_type": "code",
      "source": [
        "# Se define la función playtimegenre\n",
        "def PlayTimeGenre(genero=str):\n",
        "  # Se obtiene un dataframe a partir de games\n",
        "  # donde cada juego obtiene una fila por cada género que tenga.\n",
        "  g = games.explode(\"genre\")\n",
        "  # Se filtra el dataframe para obtener únicamente los\n",
        "  # juegos que tengan el género especificado.\n",
        "  g = g[g[\"genre\"] == genero]\n",
        "\n",
        "  # Se filtra el dataframe de items para encontrar aquellos que cumplen\n",
        "  # la condición del género especificado.\n",
        "  i = items[items[\"id_game\"].isin(g[\"id_game\"])]\n",
        "\n",
        "  # Se obtiene la suma de horas jugadas por año del conjunto de juegos filtrado.\n",
        "  x = i.groupby(\"year\")[\"playtime_forever\"].sum()\n",
        "\n",
        "  # Se obtiene el año con más horas jugadas y el número de horas jugadas.\n",
        "  year = x.idxmax()\n",
        "  hours = x.max()\n",
        "\n",
        "  # Se imprime la respuesta.\n",
        "  return print(f\"Para el género {genero} el año con más horas fue:\\n{year}\\nCon un total de {hours} horas jugadas\")"
      ],
      "metadata": {
        "id": "r_dwbdYsXxgL"
      },
      "execution_count": 51,
      "outputs": []
    },
    {
      "cell_type": "code",
      "source": [
        "genero = \"Adventure\"\n",
        "PlayTimeGenre(genero)"
      ],
      "metadata": {
        "colab": {
          "base_uri": "https://localhost:8080/"
        },
        "id": "oQzYFwfQbrSm",
        "outputId": "2d7cf285-e48f-47a8-c8ee-6c27a31d7b38"
      },
      "execution_count": 53,
      "outputs": [
        {
          "output_type": "stream",
          "name": "stdout",
          "text": [
            "Para el género Adventure el año con más horas fue:\n",
            "2006.0\n",
            "Con un total de 417199674 horas jugadas\n"
          ]
        }
      ]
    },
    {
      "cell_type": "markdown",
      "source": [
        "# UserForGenre\n",
        "def UserForGenre( genero : str ): Debe devolver el usuario que acumula más horas jugadas para el género dado y una lista de la acumulación de horas jugadas por año. Ejemplo de retorno: {\"Usuario con más horas jugadas para Género X\" : us213ndjss09sdf, \"Horas jugadas\":[{Año: 2013, Horas: 203}, {Año: 2012, Horas: 100}, {Año: 2011, Horas: 23}]}"
      ],
      "metadata": {
        "id": "fIflmM_cmMv8"
      }
    },
    {
      "cell_type": "code",
      "source": [
        "def UserForGenre(genero = str):\n",
        "  # Se obtiene un dataframe a partir de games\n",
        "  # donde cada juego obtiene una fila por cada género que tenga.\n",
        "  g = games.explode(\"genre\")\n",
        "  # Se filtra el dataframe para obtener únicamente los\n",
        "  # juegos que tengan el género especificado.\n",
        "  g = g[g[\"genre\"] == genero]\n",
        "\n",
        "  # Se filtra el dataframe de items para encontrar aquellos que cumplen\n",
        "  # la condición del género especificado.\n",
        "  i = items[items[\"id_game\"].isin(g[\"id_game\"])]\n",
        "\n",
        "  # Se obtiene la información de horas jugadas por jugador.\n",
        "  x = i.groupby([\"user_id\",\"year\"])[\"playtime_forever\"].sum()\n",
        "\n",
        "  # Se obtiene el jugador con más horas jugadas.\n",
        "  player = x.idxmax()[0]\n",
        "\n",
        "  # Se obtiene la información para el jugador identificado.\n",
        "  player_data = x.loc[player]\n",
        "\n",
        "  # Se imprime el jugador con más horas jugadas para el género identificado.\n",
        "  print(f\"El ID del jugador con más horas jugadas para el género {genero} es:\\n{player}\")\n",
        "  # Se imprimen el número de horas jugadas por año.\n",
        "  for year,playtime in player_data.items():\n",
        "    print(f\"Para el año {year} jugó {playtime} horas\")"
      ],
      "metadata": {
        "id": "qEWOHtxxZt5y"
      },
      "execution_count": 81,
      "outputs": []
    },
    {
      "cell_type": "code",
      "source": [
        "genero = \"Free to Play\"\n",
        "\n",
        "UserForGenre(genero)"
      ],
      "metadata": {
        "colab": {
          "base_uri": "https://localhost:8080/"
        },
        "id": "_7JNdloKmqaf",
        "outputId": "a1709159-df93-4446-c9f6-f9bb5cf024ce"
      },
      "execution_count": 87,
      "outputs": [
        {
          "output_type": "stream",
          "name": "stdout",
          "text": [
            "El ID del jugador con más horas jugadas para el género Free to Play es:\n",
            "shinomegami\n",
            "Para el año 2010.0 jugó 1934 horas\n",
            "Para el año 2012.0 jugó 2043 horas\n",
            "Para el año 2015.0 jugó 530882 horas\n"
          ]
        }
      ]
    },
    {
      "cell_type": "markdown",
      "source": [
        "# UsersRecommend\n",
        "def UsersRecommend( año : int ): Devuelve el top 3 de juegos MÁS recomendados por usuarios para el año dado. (reviews.recommend = True y comentarios positivos/neutrales) Ejemplo de retorno: [{\"Puesto 1\" : X}, {\"Puesto 2\" : Y},{\"Puesto 3\" : Z}]"
      ],
      "metadata": {
        "id": "A8xhY4MkwkSz"
      }
    },
    {
      "cell_type": "code",
      "source": [
        "# Se define la función.\n",
        "def UserRecommend(year):\n",
        "  # Se obtienen las reviews para el año señalado\n",
        "  r = reviews[reviews[\"review_year\"] == year]\n",
        "\n",
        "  # Se obtiene la sumatoria de recomendaciones por juego\n",
        "  # para el año selecionado\n",
        "  m = r.groupby(\"id_game\")[\"recommend\"].sum().sort_values(ascending=False)\n",
        "\n",
        "  # Se obtienen los tres juegos con mayor número de recomendaciones.\n",
        "  most_recommend = m[:3]\n",
        "\n",
        "  # Se obtiene la respuesta\n",
        "  print(f\"Para el año {year} los juegos más recomendados fueron:\")\n",
        "\n",
        "  puesto = 1 # Variable que indica el lugar en el podio.\n",
        "\n",
        "  for game_id, recom in most_recommend.items():\n",
        "      # Se obtiene el nombre del juego usando el game_id.\n",
        "      name = games.loc[games['id_game'] == game_id, 'name'].values[0]\n",
        "      # Se imprimen los puestos\n",
        "      print(f\"En el puesto #{puesto}, el juego: {name}, con {recom} recomendaciones.\")\n",
        "      puesto += 1"
      ],
      "metadata": {
        "id": "teKmdQ7yoEVt"
      },
      "execution_count": 165,
      "outputs": []
    },
    {
      "cell_type": "code",
      "source": [
        "year = 2012\n",
        "UserRecommend(year)"
      ],
      "metadata": {
        "colab": {
          "base_uri": "https://localhost:8080/"
        },
        "id": "V-OlzWpd7Fsh",
        "outputId": "bcc8b5c8-5765-4546-83d1-bcdf4522d0cb"
      },
      "execution_count": 178,
      "outputs": [
        {
          "output_type": "stream",
          "name": "stdout",
          "text": [
            "Para el año 2012 los juegos más recomendados fueron:\n",
            "En el puesto #1, el juego: Team Fortress 2, con 206 recomendaciones.\n",
            "En el puesto #2, el juego: Garry's Mod, con 33 recomendaciones.\n",
            "En el puesto #3, el juego: Terraria, con 30 recomendaciones.\n"
          ]
        }
      ]
    },
    {
      "cell_type": "markdown",
      "source": [
        "# UsersWorstDeveloper\n",
        "\n",
        "def UsersWorstDeveloper( año : int ): Devuelve el top 3 de desarrolladoras con juegos MENOS recomendados por usuarios para el año dado. (reviews.recommend = False y comentarios negativos) Ejemplo de retorno: [{\"Puesto 1\" : X}, {\"Puesto 2\" : Y},{\"Puesto 3\" : Z}]"
      ],
      "metadata": {
        "id": "dGerE7tt8ZId"
      }
    },
    {
      "cell_type": "code",
      "source": [
        "# Se define la función.\n",
        "def UserWorstDeveloper(year):\n",
        "  # Se obtienen las reviews para el año señalado\n",
        "  r = reviews[reviews[\"review_year\"] == year]\n",
        "\n",
        "  # Se obtienen las desarrolladoras de los juegos\n",
        "  # con reviews para el año selecionado\n",
        "  g = games[[\"id_game\",\"developer\"]]\n",
        "  m = r.merge(g,on=\"id_game\")\n",
        "\n",
        "  # Se obtienen el número de recomendaciones para cada desarrollador.\n",
        "  x = m.groupby(\"developer\")[\"recommend\"].sum().sort_values(ascending=True)\n",
        "\n",
        "  # Se obtienen las tres desarrolladoras con menor número de recomendaciones.\n",
        "  least_recommend = x[:3]\n",
        "\n",
        "  # Se obtiene la respuesta\n",
        "  print(f\"Para el año {year} las desarrolladoras menos recomendadas fueron:\")\n",
        "\n",
        "  puesto = 1 # Variable que indica el lugar en el podio.\n",
        "\n",
        "  for desarrolladora, recom in least_recommend.items():\n",
        "    # Se imprimen los puestos\n",
        "    print(f\"En el puesto #{puesto}, la desarrolladora: {desarrolladora}, con {recom} recomendaciones.\")\n",
        "    puesto += 1\n"
      ],
      "metadata": {
        "id": "AvUXtLyZ8pNw"
      },
      "execution_count": 196,
      "outputs": []
    },
    {
      "cell_type": "code",
      "source": [
        "year = 2010\n",
        "UserWorstDeveloper(year)"
      ],
      "metadata": {
        "colab": {
          "base_uri": "https://localhost:8080/"
        },
        "id": "GUw7VFtPRNKm",
        "outputId": "03ecbcab-3e84-4c95-9f8c-ce7229885c9e"
      },
      "execution_count": 202,
      "outputs": [
        {
          "output_type": "stream",
          "name": "stdout",
          "text": [
            "Para el año 2010 las desarrolladoras menos recomendadas fueron:\n",
            "En el puesto #1, la desarrolladora: 1C Company, con 1 recomendaciones.\n",
            "En el puesto #2, la desarrolladora: Ubisoft Montreal, con 1 recomendaciones.\n",
            "En el puesto #3, la desarrolladora: The Creative Assembly,Feral Interactive (Mac),Feral Interactive (Linux), con 1 recomendaciones.\n"
          ]
        }
      ]
    },
    {
      "cell_type": "code",
      "source": [
        "most_recommend"
      ],
      "metadata": {
        "colab": {
          "base_uri": "https://localhost:8080/"
        },
        "id": "owwOvBjSScF_",
        "outputId": "9b2b5183-ec88-4837-b85a-a1ac56c785f9"
      },
      "execution_count": 193,
      "outputs": [
        {
          "output_type": "execute_result",
          "data": {
            "text/plain": [
              "developer\n",
              "Puny Human          0\n",
              "Moment Studio       0\n",
              "DiggerWorld Ltd.    0\n",
              "Name: recommend, dtype: int64"
            ]
          },
          "metadata": {},
          "execution_count": 193
        }
      ]
    },
    {
      "cell_type": "markdown",
      "source": [
        "# sentiment_analysis\n",
        "def sentiment_analysis( empresa desarrolladora : str ): Según la empresa desarrolladora, se devuelve un diccionario con el nombre de la desarrolladora como llave y una lista con la cantidad total de registros de reseñas de usuarios que se encuentren categorizados con un análisis de sentimiento como valor. Ejemplo de retorno: {'Valve' : [Negative = 182, Neutral = 120, Positive = 278]}"
      ],
      "metadata": {
        "id": "CSJj92s0X1Kl"
      }
    },
    {
      "cell_type": "code",
      "source": [],
      "metadata": {
        "id": "pzdJylQS8pmZ"
      },
      "execution_count": null,
      "outputs": []
    }
  ]
}